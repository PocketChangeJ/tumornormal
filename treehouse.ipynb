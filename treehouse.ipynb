{
 "cells": [
  {
   "cell_type": "markdown",
   "metadata": {},
   "source": [
    "#  Classify Treehouse\n",
    "\n",
    "Load models trained in other notebooks and see how they do on the Treehouse samples"
   ]
  },
  {
   "cell_type": "code",
   "execution_count": 10,
   "metadata": {},
   "outputs": [],
   "source": [
    "import os\n",
    "import json\n",
    "import numpy as np\n",
    "import pandas as pd\n",
    "import tensorflow as tf\n",
    "import keras\n",
    "import matplotlib.pyplot as pyplot\n",
    "\n",
    "# fix random seed for reproducibility\n",
    "np.random.seed(42)\n",
    "\n",
    "# See https://github.com/h5py/h5py/issues/712\n",
    "os.environ[\"HDF5_USE_FILE_LOCKING\"] = \"FALSE\" "
   ]
  },
  {
   "cell_type": "markdown",
   "metadata": {},
   "source": [
    "## Load Datasets"
   ]
  },
  {
   "cell_type": "code",
   "execution_count": 70,
   "metadata": {},
   "outputs": [
    {
     "name": "stdout",
     "output_type": "stream",
     "text": [
      "CPU times: user 0 ns, sys: 13.7 s, total: 13.7 s\n",
      "Wall time: 15.5 s\n"
     ]
    }
   ],
   "source": [
    "%%time\n",
    "X = pd.read_hdf(\"data/tcga_target_gtex.h5\", \"expression\")\n",
    "Y = pd.read_hdf(\"data/tcga_target_gtex.h5\", \"labels\")\n",
    "\n",
    "X_treehouse = pd.read_hdf(\"data/treehouse.h5\", \"expression\")\n",
    "Y_treehouse = pd.read_hdf(\"data/treehouse.h5\", \"labels\")"
   ]
  },
  {
   "cell_type": "markdown",
   "metadata": {},
   "source": [
    "## Primary Site Classifier"
   ]
  },
  {
   "cell_type": "code",
   "execution_count": 31,
   "metadata": {},
   "outputs": [],
   "source": [
    "# Load the model\n",
    "model = keras.models.model_from_json(open(\"models/primary_site.model.json\").read())\n",
    "model.load_weights(\"models/primary_site.weights.h5\")\n",
    "params = json.loads(open(\"models/primary_site.params.json\").read())"
   ]
  },
  {
   "cell_type": "code",
   "execution_count": 37,
   "metadata": {},
   "outputs": [
    {
     "name": "stdout",
     "output_type": "stream",
     "text": [
      "19126/19126 [==============================] - 2s 103us/step\n"
     ]
    },
    {
     "data": {
      "text/plain": [
       "[0.07240446106504723, 0.9799294959211106]"
      ]
     },
     "execution_count": 37,
     "metadata": {},
     "output_type": "execute_result"
    }
   ],
   "source": [
    "# Let's run it on the training set just to make sure we haven't lost something...\n",
    "from sklearn import preprocessing\n",
    "encoder = preprocessing.LabelBinarizer()\n",
    "y_onehot = encoder.fit_transform(Y.primary_site.values)\n",
    "\n",
    "# Prune X to only include genes in the gene sets\n",
    "X_pruned = X.drop(labels=(set(X.columns) - set(params[\"genes\"])), axis=1, errors=\"ignore\")\n",
    "\n",
    "model.compile(loss='binary_crossentropy', optimizer='adam', metrics=['accuracy'])\n",
    "model.evaluate(X_pruned, y_onehot)"
   ]
  },
  {
   "cell_type": "code",
   "execution_count": 38,
   "metadata": {},
   "outputs": [],
   "source": [
    "# Now let's try on Treehouse\n",
    "\n",
    "# Prune X to only include genes in the gene sets\n",
    "X_treehouse_pruned = X_treehouse.drop(labels=(set(X.columns) - set(params[\"genes\"])), axis=1, errors=\"ignore\")"
   ]
  },
  {
   "cell_type": "code",
   "execution_count": 66,
   "metadata": {},
   "outputs": [
    {
     "data": {
      "text/plain": [
       "id\n",
       "TH01_0051_S01                Kidney(0.17), Lung(0.15), Brain(0.06)\n",
       "TH01_0053_S01    White blood cell(0.25), Brain(0.16), Kidney(0.15)\n",
       "TH01_0054_S01       Lung(0.14), Skin(0.14), White blood cell(0.10)\n",
       "Name: primary_site_predicted, dtype: object"
      ]
     },
     "execution_count": 66,
     "metadata": {},
     "output_type": "execute_result"
    }
   ],
   "source": [
    "Y_treehouse[\"primary_site_predicted\"] = [\", \".join([\"{}({:0.2f})\".format(params[\"labels\"][i], p[i]) \n",
    "                                                    for i in p.argsort()[-3:][::-1]]) \n",
    "                                         for p in model.predict(X_treehouse_pruned)]\n",
    "Y_treehouse.primary_site_predicted[0:3]"
   ]
  },
  {
   "cell_type": "code",
   "execution_count": 67,
   "metadata": {},
   "outputs": [],
   "source": [
    "Y_treehouse.to_csv(\"models/treehouse_predictions.tsv\", sep=\"\\t\")"
   ]
  }
 ],
 "metadata": {
  "kernelspec": {
   "display_name": "Python 3",
   "language": "python",
   "name": "python3"
  },
  "language_info": {
   "codemirror_mode": {
    "name": "ipython",
    "version": 3
   },
   "file_extension": ".py",
   "mimetype": "text/x-python",
   "name": "python",
   "nbconvert_exporter": "python",
   "pygments_lexer": "ipython3",
   "version": "3.6.3"
  }
 },
 "nbformat": 4,
 "nbformat_minor": 2
}
