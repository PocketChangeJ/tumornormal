{
 "cells": [
  {
   "cell_type": "markdown",
   "metadata": {},
   "source": [
    "#  Classify Treehouse\n",
    "\n",
    "Load models trained in other notebooks and see how they do on the Treehouse samples"
   ]
  },
  {
   "cell_type": "code",
   "execution_count": 1,
   "metadata": {},
   "outputs": [
    {
     "name": "stderr",
     "output_type": "stream",
     "text": [
      "/opt/conda/lib/python3.6/site-packages/h5py/__init__.py:36: FutureWarning: Conversion of the second argument of issubdtype from `float` to `np.floating` is deprecated. In future, it will be treated as `np.float64 == np.dtype(float).type`.\n",
      "  from ._conv import register_converters as _register_converters\n",
      "Using TensorFlow backend.\n"
     ]
    }
   ],
   "source": [
    "import os\n",
    "import json\n",
    "import numpy as np\n",
    "import pandas as pd\n",
    "import tensorflow as tf\n",
    "import keras\n",
    "import matplotlib.pyplot as pyplot\n",
    "\n",
    "# fix random seed for reproducibility\n",
    "np.random.seed(42)\n",
    "\n",
    "# See https://github.com/h5py/h5py/issues/712\n",
    "os.environ[\"HDF5_USE_FILE_LOCKING\"] = \"FALSE\" "
   ]
  },
  {
   "cell_type": "markdown",
   "metadata": {},
   "source": [
    "## Load Datasets"
   ]
  },
  {
   "cell_type": "code",
   "execution_count": 70,
   "metadata": {},
   "outputs": [
    {
     "name": "stdout",
     "output_type": "stream",
     "text": [
      "CPU times: user 0 ns, sys: 13.7 s, total: 13.7 s\n",
      "Wall time: 15.5 s\n"
     ]
    }
   ],
   "source": [
    "%%time\n",
    "X = pd.read_hdf(\"data/tcga_target_gtex.h5\", \"expression\")\n",
    "Y = pd.read_hdf(\"data/tcga_target_gtex.h5\", \"labels\")\n",
    "\n",
    "X_treehouse = pd.read_hdf(\"data/treehouse.h5\", \"expression\")\n",
    "Y_treehouse = pd.read_hdf(\"data/treehouse.h5\", \"labels\")"
   ]
  },
  {
   "cell_type": "markdown",
   "metadata": {},
   "source": [
    "## Primary Site Classifier"
   ]
  },
  {
   "cell_type": "code",
   "execution_count": 31,
   "metadata": {},
   "outputs": [],
   "source": [
    "# Load the model\n",
    "model = keras.models.model_from_json(open(\"models/primary_site.model.json\").read())\n",
    "model.load_weights(\"models/primary_site.weights.h5\")\n",
    "params = json.loads(open(\"models/primary_site.params.json\").read())"
   ]
  },
  {
   "cell_type": "code",
   "execution_count": 37,
   "metadata": {},
   "outputs": [
    {
     "name": "stdout",
     "output_type": "stream",
     "text": [
      "19126/19126 [==============================] - 2s 103us/step\n"
     ]
    },
    {
     "data": {
      "text/plain": [
       "[0.07240446106504723, 0.9799294959211106]"
      ]
     },
     "execution_count": 37,
     "metadata": {},
     "output_type": "execute_result"
    }
   ],
   "source": [
    "# Let's run it on the training set just to make sure we haven't lost something...\n",
    "from sklearn import preprocessing\n",
    "encoder = preprocessing.LabelBinarizer()\n",
    "y_onehot = encoder.fit_transform(Y.primary_site.values)\n",
    "\n",
    "# Prune X to only include genes in the gene sets\n",
    "X_pruned = X.drop(labels=(set(X.columns) - set(params[\"genes\"])), axis=1, errors=\"ignore\")\n",
    "\n",
    "model.compile(loss='binary_crossentropy', optimizer='adam', metrics=['accuracy'])\n",
    "model.evaluate(X_pruned, y_onehot)"
   ]
  },
  {
   "cell_type": "code",
   "execution_count": 38,
   "metadata": {},
   "outputs": [],
   "source": [
    "# Now let's try on Treehouse\n",
    "\n",
    "# Prune X to only include genes in the gene sets\n",
    "X_treehouse_pruned = X_treehouse.drop(labels=(set(X.columns) - set(params[\"genes\"])), axis=1, errors=\"ignore\")"
   ]
  },
  {
   "cell_type": "code",
   "execution_count": 66,
   "metadata": {},
   "outputs": [
    {
     "data": {
      "text/plain": [
       "id\n",
       "TH01_0051_S01                Kidney(0.17), Lung(0.15), Brain(0.06)\n",
       "TH01_0053_S01    White blood cell(0.25), Brain(0.16), Kidney(0.15)\n",
       "TH01_0054_S01       Lung(0.14), Skin(0.14), White blood cell(0.10)\n",
       "Name: primary_site_predicted, dtype: object"
      ]
     },
     "execution_count": 66,
     "metadata": {},
     "output_type": "execute_result"
    }
   ],
   "source": [
    "Y_treehouse[\"primary_site_predicted\"] = [\", \".join([\"{}({:0.2f})\".format(params[\"labels\"][i], p[i]) \n",
    "                                                    for i in p.argsort()[-3:][::-1]]) \n",
    "                                         for p in model.predict(X_treehouse_pruned)]\n",
    "Y_treehouse.primary_site_predicted[0:3]"
   ]
  },
  {
   "cell_type": "code",
   "execution_count": 67,
   "metadata": {},
   "outputs": [],
   "source": [
    "Y_treehouse.to_csv(\"models/treehouse_predictions.tsv\", sep=\"\\t\")"
   ]
  },
  {
   "cell_type": "markdown",
   "metadata": {},
   "source": [
    "## Treehouse Pathways\n",
    "Load predictions from pathway model, enrich with pathways and disease from tertiary protocol and analyze"
   ]
  },
  {
   "cell_type": "code",
   "execution_count": 5,
   "metadata": {},
   "outputs": [
    {
     "data": {
      "text/html": [
       "<div>\n",
       "<style scoped>\n",
       "    .dataframe tbody tr th:only-of-type {\n",
       "        vertical-align: middle;\n",
       "    }\n",
       "\n",
       "    .dataframe tbody tr th {\n",
       "        vertical-align: top;\n",
       "    }\n",
       "\n",
       "    .dataframe thead th {\n",
       "        text-align: right;\n",
       "    }\n",
       "</style>\n",
       "<table border=\"1\" class=\"dataframe\">\n",
       "  <thead>\n",
       "    <tr style=\"text-align: right;\">\n",
       "      <th></th>\n",
       "      <th>id</th>\n",
       "      <th>age_in_years</th>\n",
       "      <th>gender</th>\n",
       "      <th>disease</th>\n",
       "      <th>predicted_tumor_normal</th>\n",
       "      <th>predicted_primary_site</th>\n",
       "      <th>predicted_disease</th>\n",
       "      <th>predicted_pathways</th>\n",
       "    </tr>\n",
       "  </thead>\n",
       "  <tbody>\n",
       "    <tr>\n",
       "      <th>0</th>\n",
       "      <td>TH01_0051_S01</td>\n",
       "      <td>NaN</td>\n",
       "      <td>Not Reported</td>\n",
       "      <td>Hepatoblastoma</td>\n",
       "      <td>Tumor (0.77)</td>\n",
       "      <td>Kidney (0.17), Liver (0.10), Lung (0.05)</td>\n",
       "      <td>Kidney Clear Cell Carcinoma (0.12), Liver Hepa...</td>\n",
       "      <td>KEGG_ABC_TRANSPORTERS (2.85), KEGG_LEUKOCYTE_T...</td>\n",
       "    </tr>\n",
       "    <tr>\n",
       "      <th>1</th>\n",
       "      <td>TH01_0053_S01</td>\n",
       "      <td>NaN</td>\n",
       "      <td>Not Reported</td>\n",
       "      <td>Acute Myeloid Leukemia</td>\n",
       "      <td>Tumor (0.68)</td>\n",
       "      <td>White blood cell (0.29), Blood (0.22), Lung (0...</td>\n",
       "      <td>Acute Myeloid Leukemia (0.22), Whole Blood (0....</td>\n",
       "      <td>KEGG_CELL_ADHESION_MOLECULES_CAMS (3.85), KEGG...</td>\n",
       "    </tr>\n",
       "    <tr>\n",
       "      <th>2</th>\n",
       "      <td>TH01_0054_S01</td>\n",
       "      <td>NaN</td>\n",
       "      <td>Not Reported</td>\n",
       "      <td>Acute Lymphoblastic Leukemia</td>\n",
       "      <td>Tumor (0.59)</td>\n",
       "      <td>White blood cell (0.29), Blood (0.25), Stomach...</td>\n",
       "      <td>Acute Myeloid Leukemia (0.20), Whole Blood (0....</td>\n",
       "      <td>KEGG_FC_GAMMA_R_MEDIATED_PHAGOCYTOSIS (3.61), ...</td>\n",
       "    </tr>\n",
       "    <tr>\n",
       "      <th>3</th>\n",
       "      <td>TH01_0055_S01</td>\n",
       "      <td>NaN</td>\n",
       "      <td>Not Reported</td>\n",
       "      <td>Glioma</td>\n",
       "      <td>Tumor (0.59)</td>\n",
       "      <td>Brain (0.64), Kidney (0.05), Esophagus (0.05)</td>\n",
       "      <td>Brain Lower Grade Glioma (0.21), Head &amp; Neck S...</td>\n",
       "      <td>KEGG_CALCIUM_SIGNALING_PATHWAY (4.15), KEGG_GL...</td>\n",
       "    </tr>\n",
       "    <tr>\n",
       "      <th>4</th>\n",
       "      <td>TH01_0061_S01</td>\n",
       "      <td>NaN</td>\n",
       "      <td>Not Reported</td>\n",
       "      <td>Germ Cell Tumor</td>\n",
       "      <td>Tumor (0.77)</td>\n",
       "      <td>Kidney (0.14), Lung (0.09), Skin (0.07)</td>\n",
       "      <td>Kidney Clear Cell Carcinoma (0.08), Lung Squam...</td>\n",
       "      <td>KEGG_BIOSYNTHESIS_OF_UNSATURATED_FATTY_ACIDS (...</td>\n",
       "    </tr>\n",
       "  </tbody>\n",
       "</table>\n",
       "</div>"
      ],
      "text/plain": [
       "              id  age_in_years        gender                       disease  \\\n",
       "0  TH01_0051_S01           NaN  Not Reported                Hepatoblastoma   \n",
       "1  TH01_0053_S01           NaN  Not Reported        Acute Myeloid Leukemia   \n",
       "2  TH01_0054_S01           NaN  Not Reported  Acute Lymphoblastic Leukemia   \n",
       "3  TH01_0055_S01           NaN  Not Reported                        Glioma   \n",
       "4  TH01_0061_S01           NaN  Not Reported               Germ Cell Tumor   \n",
       "\n",
       "  predicted_tumor_normal                             predicted_primary_site  \\\n",
       "0           Tumor (0.77)           Kidney (0.17), Liver (0.10), Lung (0.05)   \n",
       "1           Tumor (0.68)  White blood cell (0.29), Blood (0.22), Lung (0...   \n",
       "2           Tumor (0.59)  White blood cell (0.29), Blood (0.25), Stomach...   \n",
       "3           Tumor (0.59)      Brain (0.64), Kidney (0.05), Esophagus (0.05)   \n",
       "4           Tumor (0.77)            Kidney (0.14), Lung (0.09), Skin (0.07)   \n",
       "\n",
       "                                   predicted_disease  \\\n",
       "0  Kidney Clear Cell Carcinoma (0.12), Liver Hepa...   \n",
       "1  Acute Myeloid Leukemia (0.22), Whole Blood (0....   \n",
       "2  Acute Myeloid Leukemia (0.20), Whole Blood (0....   \n",
       "3  Brain Lower Grade Glioma (0.21), Head & Neck S...   \n",
       "4  Kidney Clear Cell Carcinoma (0.08), Lung Squam...   \n",
       "\n",
       "                                  predicted_pathways  \n",
       "0  KEGG_ABC_TRANSPORTERS (2.85), KEGG_LEUKOCYTE_T...  \n",
       "1  KEGG_CELL_ADHESION_MOLECULES_CAMS (3.85), KEGG...  \n",
       "2  KEGG_FC_GAMMA_R_MEDIATED_PHAGOCYTOSIS (3.61), ...  \n",
       "3  KEGG_CALCIUM_SIGNALING_PATHWAY (4.15), KEGG_GL...  \n",
       "4  KEGG_BIOSYNTHESIS_OF_UNSATURATED_FATTY_ACIDS (...  "
      ]
     },
     "execution_count": 5,
     "metadata": {},
     "output_type": "execute_result"
    }
   ],
   "source": [
    "Y = pd.read_csv(\"models/Y_treehouse_predictions.tsv\", sep=\"\\t\", )\n",
    "Y.head()"
   ]
  },
  {
   "cell_type": "code",
   "execution_count": null,
   "metadata": {},
   "outputs": [],
   "source": []
  },
  {
   "cell_type": "code",
   "execution_count": 67,
   "metadata": {},
   "outputs": [],
   "source": [
    "import glob\n",
    "import json\n",
    "\n",
    "\n",
    "id = \"TH01_0051_S01\"\n",
    "\n",
    "\n",
    "\n",
    "conf_path = glob.glob(\n",
    "        \"/treehouse/archive/downstream/{}/tertiary/treehouse-protocol*/compendium*/conf.json\".format(y.id))\n",
    "\n",
    "\n",
    "    \n",
    "#     if conf_path:\n",
    "#         with open(conf_path[0]) as f:\n",
    "#             conf = json.loads(f.read())\n",
    "            \n",
    "#             if \"disease\" in conf[\"info\"]:\n",
    "#                 print(conf[\"info\"][\"disease\"])\n",
    "\n"
   ]
  },
  {
   "cell_type": "code",
   "execution_count": 63,
   "metadata": {},
   "outputs": [
    {
     "data": {
      "text/html": [
       "<div>\n",
       "<style scoped>\n",
       "    .dataframe tbody tr th:only-of-type {\n",
       "        vertical-align: middle;\n",
       "    }\n",
       "\n",
       "    .dataframe tbody tr th {\n",
       "        vertical-align: top;\n",
       "    }\n",
       "\n",
       "    .dataframe thead th {\n",
       "        text-align: right;\n",
       "    }\n",
       "</style>\n",
       "<table border=\"1\" class=\"dataframe\">\n",
       "  <thead>\n",
       "    <tr style=\"text-align: right;\">\n",
       "      <th></th>\n",
       "      <th>id</th>\n",
       "      <th>Disease</th>\n",
       "      <th>Dataset</th>\n",
       "      <th>Gender</th>\n",
       "      <th>Anatomical_location</th>\n",
       "      <th>Sample_type</th>\n",
       "      <th>Stage_all_cancers</th>\n",
       "      <th>Grade_all_cancers</th>\n",
       "      <th>Age_at_dx</th>\n",
       "      <th>Ped_AYA</th>\n",
       "      <th>Histology_all_cancers</th>\n",
       "      <th>Subcategory</th>\n",
       "      <th>Race</th>\n",
       "      <th>Ethnicity</th>\n",
       "    </tr>\n",
       "  </thead>\n",
       "  <tbody>\n",
       "    <tr>\n",
       "      <th>0</th>\n",
       "      <td>TH01_0053_S01</td>\n",
       "      <td>acute lymphoblastic leukemia</td>\n",
       "      <td>TH</td>\n",
       "      <td>NaN</td>\n",
       "      <td>not noted</td>\n",
       "      <td>NaN</td>\n",
       "      <td>NaN</td>\n",
       "      <td>NaN</td>\n",
       "      <td>NaN</td>\n",
       "      <td>yes</td>\n",
       "      <td>NaN</td>\n",
       "      <td>NaN</td>\n",
       "      <td>NaN</td>\n",
       "      <td>NaN</td>\n",
       "    </tr>\n",
       "    <tr>\n",
       "      <th>1</th>\n",
       "      <td>TH01_0054_S01</td>\n",
       "      <td>lymphoblastic leukemia</td>\n",
       "      <td>TH</td>\n",
       "      <td>NaN</td>\n",
       "      <td>not noted</td>\n",
       "      <td>NaN</td>\n",
       "      <td>NaN</td>\n",
       "      <td>NaN</td>\n",
       "      <td>NaN</td>\n",
       "      <td>yes</td>\n",
       "      <td>b-cell</td>\n",
       "      <td>T1, relapse</td>\n",
       "      <td>NaN</td>\n",
       "      <td>NaN</td>\n",
       "    </tr>\n",
       "    <tr>\n",
       "      <th>2</th>\n",
       "      <td>TH01_0055_S01</td>\n",
       "      <td>glioma</td>\n",
       "      <td>TH</td>\n",
       "      <td>NaN</td>\n",
       "      <td>not noted</td>\n",
       "      <td>NaN</td>\n",
       "      <td>NaN</td>\n",
       "      <td>unknown</td>\n",
       "      <td>NaN</td>\n",
       "      <td>yes</td>\n",
       "      <td>astrocytoma</td>\n",
       "      <td>NaN</td>\n",
       "      <td>NaN</td>\n",
       "      <td>NaN</td>\n",
       "    </tr>\n",
       "    <tr>\n",
       "      <th>3</th>\n",
       "      <td>TH01_0061_S01</td>\n",
       "      <td>germ cell tumor</td>\n",
       "      <td>TH</td>\n",
       "      <td>NaN</td>\n",
       "      <td>not noted</td>\n",
       "      <td>NaN</td>\n",
       "      <td>NaN</td>\n",
       "      <td>NaN</td>\n",
       "      <td>NaN</td>\n",
       "      <td>yes</td>\n",
       "      <td>mixed</td>\n",
       "      <td>NaN</td>\n",
       "      <td>NaN</td>\n",
       "      <td>NaN</td>\n",
       "    </tr>\n",
       "    <tr>\n",
       "      <th>4</th>\n",
       "      <td>TH01_0062_S01</td>\n",
       "      <td>acute lymphoblastic leukemia</td>\n",
       "      <td>TH</td>\n",
       "      <td>NaN</td>\n",
       "      <td>not noted</td>\n",
       "      <td>NaN</td>\n",
       "      <td>NaN</td>\n",
       "      <td>NaN</td>\n",
       "      <td>NaN</td>\n",
       "      <td>yes</td>\n",
       "      <td>NaN</td>\n",
       "      <td>NaN</td>\n",
       "      <td>NaN</td>\n",
       "      <td>NaN</td>\n",
       "    </tr>\n",
       "  </tbody>\n",
       "</table>\n",
       "</div>"
      ],
      "text/plain": [
       "              id                       Disease Dataset Gender  \\\n",
       "0  TH01_0053_S01  acute lymphoblastic leukemia      TH    NaN   \n",
       "1  TH01_0054_S01        lymphoblastic leukemia      TH    NaN   \n",
       "2  TH01_0055_S01                        glioma      TH    NaN   \n",
       "3  TH01_0061_S01               germ cell tumor      TH    NaN   \n",
       "4  TH01_0062_S01  acute lymphoblastic leukemia      TH    NaN   \n",
       "\n",
       "  Anatomical_location Sample_type Stage_all_cancers Grade_all_cancers  \\\n",
       "0           not noted         NaN               NaN               NaN   \n",
       "1           not noted         NaN               NaN               NaN   \n",
       "2           not noted         NaN               NaN           unknown   \n",
       "3           not noted         NaN               NaN               NaN   \n",
       "4           not noted         NaN               NaN               NaN   \n",
       "\n",
       "   Age_at_dx Ped_AYA Histology_all_cancers  Subcategory Race Ethnicity  \n",
       "0        NaN     yes                   NaN          NaN  NaN       NaN  \n",
       "1        NaN     yes                b-cell  T1, relapse  NaN       NaN  \n",
       "2        NaN     yes           astrocytoma          NaN  NaN       NaN  \n",
       "3        NaN     yes                mixed           NaN  NaN       NaN  \n",
       "4        NaN     yes                   NaN          NaN  NaN       NaN  "
      ]
     },
     "execution_count": 63,
     "metadata": {},
     "output_type": "execute_result"
    }
   ],
   "source": [
    "clinical.head()\n",
    "\n"
   ]
  },
  {
   "cell_type": "code",
   "execution_count": 30,
   "metadata": {},
   "outputs": [
    {
     "data": {
      "text/plain": [
       "{'cohort_pathsafe_name': 'v4',\n",
       " 'dir': {'base': '/data',\n",
       "  'cohort': '/data/references/compendium/v4',\n",
       "  'cohort_clinical': '/data/references/compendium/v4/clinical',\n",
       "  'cohortbase': '/data/references/compendium',\n",
       "  'gene_expression_plots_dir': '/data/notebooks/e-t-k/protocol_batches/thops74/output/TH01_0051_S01/expression_plots',\n",
       "  'ref': '/data/references/external',\n",
       "  'sample': '/data/notebooks/e-t-k/protocol_batches/thops74/output/TH01_0051_S01',\n",
       "  'samplebase': '/data/notebooks/e-t-k/protocol_batches/thops74/output'},\n",
       " 'file': {'5_out': {'genes_pc_up': '/data/notebooks/e-t-k/protocol_batches/thops74/output/TH01_0051_S01/genes_TH01_0051_S01_pc_up',\n",
       "   'genes_pd_up': '/data/notebooks/e-t-k/protocol_batches/thops74/output/TH01_0051_S01/genes_TH01_0051_S01_pd_up'},\n",
       "  '7_out': {'all_gene_aggregation': '/data/notebooks/e-t-k/protocol_batches/thops74/output/TH01_0051_S01/allGeneAggregation.txt',\n",
       "   'druggable_gene_aggregation': '/data/notebooks/e-t-k/protocol_batches/thops74/output/TH01_0051_S01/druggableGeneAggregation.txt',\n",
       "   'gene_set_aggregation': '/data/notebooks/e-t-k/protocol_batches/thops74/output/TH01_0051_S01/GeneSetAggregation.txt',\n",
       "   'gene_set_details_per_list': '/data/notebooks/e-t-k/protocol_batches/thops74/output/TH01_0051_S01/GeneSetDetailsPerList.txt'},\n",
       "  'automated_leads_identified': '/data/notebooks/e-t-k/protocol_batches/thops74/output/TH01_0051_S01/automatedLeadsIdentified.tsv',\n",
       "  'biomart_hugo_entrez_mapping_file': '/data/references/external/bioMart_Hugo_Entrez_conversionTable.naExcluded.2017-02-03_04.48.56PM.txt',\n",
       "  'cohort_expression': '/data/references/compendium/v4/cohort.hd5',\n",
       "  'cohort_expression_tsv': '/data/references/compendium/v4/expression.tsv',\n",
       "  'cohort_percentiles': '/data/references/compendium/v4/percentiles.hd5',\n",
       "  'cohort_samples_v_diseases': '/data/references/compendium/v4/cohort.diseases.by.samples.tsv',\n",
       "  'cohort_xy_coords': '/data/references/compendium/v4/xy_coords.tsv',\n",
       "  'conf': '/data/notebooks/e-t-k/protocol_batches/thops74/output/TH01_0051_S01/conf.json',\n",
       "  'ensembl_hugo_mapping_file': '/data/references/external/EnsGeneID_Hugo_Observed_Conversions.txt',\n",
       "  'ensembl_id_list': '/data/references/external/ensembl_ids.txt',\n",
       "  'essential_clinical_tsv': '/data/references/compendium/v4/clinical.tsv',\n",
       "  'flag_analysis_failed': '/data/notebooks/e-t-k/protocol_batches/thops74/output/TH01_0051_S01/ANALYSIS_FAILED',\n",
       "  'gsea_credentials': '/data/notebooks/e-t-k/protocol_batches/thops74/output/TH01_0051_S01/gsea_creds.json',\n",
       "  'log': '/data/notebooks/e-t-k/protocol_batches/thops74/output/TH01_0051_S01/log.txt',\n",
       "  'mss_clin_and_mutations': '/data/notebooks/e-t-k/protocol_batches/thops74/output/TH01_0051_S01/basicClinAndMutationsPerMSSOf_TH01_0051_S01.tsv',\n",
       "  'mss_multi_genes': '/data/notebooks/e-t-k/protocol_batches/thops74/output/TH01_0051_S01/multiplyMutatedGenesPerMSSOf_TH01_0051_S01.tsv',\n",
       "  'mss_multi_mutations': '/data/notebooks/e-t-k/protocol_batches/thops74/output/TH01_0051_S01/multiplyAppearingMutationsPerMSSOf_TH01_0051_S01.tsv',\n",
       "  'neighbor_diseases': '/data/notebooks/e-t-k/protocol_batches/thops74/output/TH01_0051_S01/neighbor_diseases.tsv',\n",
       "  'outlier_results': '/data/notebooks/e-t-k/protocol_batches/thops74/output/TH01_0051_S01/outlier_results_TH01_0051_S01',\n",
       "  'pancan_filtered_genes': '/data/notebooks/e-t-k/protocol_batches/thops74/output/TH01_0051_S01/pancan.filtered-genes.txt',\n",
       "  'pancan_high_threshold': '/data/notebooks/e-t-k/protocol_batches/thops74/output/TH01_0051_S01/pancan.high-threshold.txt',\n",
       "  'pancan_low_threshold': '/data/notebooks/e-t-k/protocol_batches/thops74/output/TH01_0051_S01/pancan.low-threshold.txt',\n",
       "  'pancan_median': '/data/notebooks/e-t-k/protocol_batches/thops74/output/TH01_0051_S01/pancan.median.txt',\n",
       "  'pancan_samples': '/data/notebooks/e-t-k/protocol_batches/thops74/output/TH01_0051_S01/pancan_samples.txt',\n",
       "  'pandis_filtered_genes': '/data/notebooks/e-t-k/protocol_batches/thops74/output/TH01_0051_S01/pandis.filtered-genes.txt',\n",
       "  'pandis_high_threshold': '/data/notebooks/e-t-k/protocol_batches/thops74/output/TH01_0051_S01/pandis.high-threshold.txt',\n",
       "  'pandis_low_threshold': '/data/notebooks/e-t-k/protocol_batches/thops74/output/TH01_0051_S01/pandis.low-threshold.txt',\n",
       "  'pandis_median': '/data/notebooks/e-t-k/protocol_batches/thops74/output/TH01_0051_S01/pandis.median.txt',\n",
       "  'pandisease_samples': '/data/notebooks/e-t-k/protocol_batches/thops74/output/TH01_0051_S01/pandisease_samples.txt',\n",
       "  'rsem_genes.results': '/data/notebooks/e-t-k/protocol_batches/thops74/output/TH01_0051_S01/rsem_genes.results',\n",
       "  'rsem_genes.results_header': '/data/references/external/rsem_genes.results.header.txt',\n",
       "  'tpm_hugo': '/data/notebooks/e-t-k/protocol_batches/thops74/output/TH01_0051_S01/rsem.genes.tpm.hugo.tab',\n",
       "  'tpm_hugo_norm_uniq': '/data/notebooks/e-t-k/protocol_batches/thops74/output/TH01_0051_S01/rsem.genes.tpm.hugo.log2plus1.dedupe.tab',\n",
       "  'tumormap_command': '/data/notebooks/e-t-k/protocol_batches/thops74/output/TH01_0051_S01/tumormap_command.json',\n",
       "  'tumormap_log': '/data/notebooks/e-t-k/protocol_batches/thops74/output/TH01_0051_S01/tumormap_log.txt',\n",
       "  'tumormap_n_of_1_expression': '/data/notebooks/e-t-k/protocol_batches/thops74/output/TH01_0051_S01/rsem.genes.tpm.hugo.log2plus1.dedupe.tab',\n",
       "  'tumormap_report': '/data/notebooks/e-t-k/protocol_batches/thops74/output/TH01_0051_S01/TH01_0051_S01.tumormap_report.txt',\n",
       "  'tumormap_results': '/data/notebooks/e-t-k/protocol_batches/thops74/output/TH01_0051_S01/tumormap_results.txt'},\n",
       " 'info': {'cohort_tumormap_only_samples': [],\n",
       "  'cohort_tumormap_url': 'https://tumormap.ucsc.edu/?p=CKCC/v4',\n",
       "  'cohort_zero_threshold': '0',\n",
       "  'id_for_tumormap': 'TH01_0051_S01',\n",
       "  'iqr_multiplier': 1.5,\n",
       "  'logging_config': {'filename': '/data/notebooks/e-t-k/protocol_batches/thops74/output/TH01_0051_S01/log.txt',\n",
       "   'format': '%(message)s',\n",
       "   'level': 20},\n",
       "  'proportion_unexpressed_filter_cutoff': 0.8,\n",
       "  'tumormap_docker_image': 'ucschexmap/compute:0.0.1',\n",
       "  'variance_filter_cutoff': 0.2},\n",
       " 'md5': {'cohort_hd5': '37df8954bdcf028db174196dad4487b8',\n",
       "  'cohort_tsv': '33631f699c4028642b7315a18aa7688c',\n",
       "  'rsem_genes.results': '2bfdf5464cd29b427c87273ad6654116'},\n",
       " 'medbook_sample_prefix': '',\n",
       " 'ref_file': {'TCGA_non_silent_cancer_mutations_by_sample': '/data/references/external/TCGA_NonSilentMutationsInCancerGenesBySample.txt',\n",
       "  'curated_pathways_druggable_genes': '/data/references/external/tertiary-references/curatedPathwaysContainingFDA_druggableGenes.txt',\n",
       "  'druggable_genes_by_category': '/data/references/external/tertiary-references/genesByCategory.txt',\n",
       "  'msigdb_pathway_file': '/data/references/external/msigdb.v5.2.symbols.gmt'},\n",
       " 'sample_id': 'TH01_0051_S01',\n",
       " 'tumormap_cohort_name': 'v4'}"
      ]
     },
     "execution_count": 30,
     "metadata": {},
     "output_type": "execute_result"
    }
   ],
   "source": [
    "conf"
   ]
  }
 ],
 "metadata": {
  "kernelspec": {
   "display_name": "Python 3",
   "language": "python",
   "name": "python3"
  },
  "language_info": {
   "codemirror_mode": {
    "name": "ipython",
    "version": 3
   },
   "file_extension": ".py",
   "mimetype": "text/x-python",
   "name": "python",
   "nbconvert_exporter": "python",
   "pygments_lexer": "ipython3",
   "version": "3.6.3"
  }
 },
 "nbformat": 4,
 "nbformat_minor": 2
}
