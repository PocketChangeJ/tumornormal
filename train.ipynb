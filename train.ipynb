{
 "cells": [
  {
   "cell_type": "markdown",
   "metadata": {},
   "source": [
    "# Classifying Tumor vs. Normal from Gene Expression\n",
    "\n",
    "See if it's possible to train a deep neural network tumor/normal binary classifier using just the Toil TCGA, TARGET and GTEX expression datasets:\n",
    "\n",
    "https://xenabrowser.net/datapages/?host=https://toil.xenahubs.net)"
   ]
  },
  {
   "cell_type": "code",
   "execution_count": 2,
   "metadata": {},
   "outputs": [],
   "source": [
    "import os\n",
    "import numpy as np\n",
    "import pandas as pd\n",
    "import tensorflow as tf\n",
    "import keras\n",
    "\n",
    "# fix random seed for reproducibility\n",
    "np.random.seed(42)"
   ]
  },
  {
   "cell_type": "code",
   "execution_count": 3,
   "metadata": {},
   "outputs": [
    {
     "name": "stdout",
     "output_type": "stream",
     "text": [
      "Using CPU\n"
     ]
    }
   ],
   "source": [
    "\"\"\"\n",
    "Detect if there are GPU's on this box and if so use them politely. If not use the CPU.\n",
    "\"\"\"\n",
    "import re\n",
    "import subprocess\n",
    "import keras.backend.tensorflow_backend\n",
    "\n",
    "\n",
    "if \"CUDA_HOME\" in os.environ:\n",
    "    # Pick a GPU that isn't being used and then only use the memory we need (allow_growth)\n",
    "    print(\"Using GPU\")\n",
    "    def get_session():\n",
    "        return tf.Session(config=tf.ConfigProto(log_device_placement=True, allow_soft_placement=True,\n",
    "                                                gpu_options=tf.GPUOptions(allow_growth=True)))\n",
    "    keras.backend.tensorflow_backend.set_session(get_session())\n",
    "\n",
    "    utilization = re.findall(r\"Utilization.*?Gpu.*?(\\d+).*?Memory.*?(\\d+)\",\n",
    "                             subprocess.check_output([\"nvidia-smi\", \"-q\"]), \n",
    "                             flags=re.MULTILINE | re.DOTALL)\n",
    "    print(\"GPU Utilization\", utilization)\n",
    "\n",
    "    if ('0', '0') in utilization:\n",
    "        print(\"Using GPU Device:\", utilization.index(('0', '0')))\n",
    "        os.environ[\"CUDA_VISIBLE_DEVICES\"] = str(utilization.index(('0', '0')))\n",
    "        os.environ[\"CUDA_DEVICE_ORDER\"]  = \"PCI_BUS_ID\"  # To ensure the index matches\n",
    "    else:\n",
    "        print(\"All GPUs in Use\")\n",
    "        exit    \n",
    "else:\n",
    "    print(\"Using CPU\")"
   ]
  },
  {
   "cell_type": "code",
   "execution_count": 4,
   "metadata": {},
   "outputs": [
    {
     "name": "stdout",
     "output_type": "stream",
     "text": [
      "Datasets: ['X_test', 'X_train', 'class_labels', 'classes_test', 'classes_train', 'features', 'labels', 'y_test', 'y_train']\n",
      "Training on partial dataset\n",
      "X_train.shape: (1000, 58581) epochs: 1 batch_size: 256\n"
     ]
    }
   ],
   "source": [
    "from keras.utils.io_utils import HDF5Matrix\n",
    "import h5py\n",
    "\n",
    "input_file = \"data/tumor_normal.h5\"\n",
    "\n",
    "with h5py.File(input_file, \"r\") as f:\n",
    "    print(\"Datasets:\", list(f.keys()))\n",
    "    \n",
    "# Use a subset of the data if debugging\n",
    "if os.getenv(\"DEBUG\", \"True\") == \"True\":\n",
    "    X_train = HDF5Matrix(input_file, \"X_train\", start=0, end=1000)\n",
    "    X_test = HDF5Matrix(input_file, \"X_test\", start=0, end=200)\n",
    "    y_train = HDF5Matrix(input_file, \"y_train\", start=0, end=1000)\n",
    "    y_test = HDF5Matrix(input_file, \"y_test\", start=0, end=200)\n",
    "    print(\"Training on partial dataset\")\n",
    "    epochs=1\n",
    "    batch_size=256\n",
    "else:\n",
    "    X_train = HDF5Matrix(input_file, \"X_train\")\n",
    "    X_test = HDF5Matrix(input_file, \"X_test\")\n",
    "    y_train = HDF5Matrix(input_file, \"y_train\")\n",
    "    y_test = HDF5Matrix(input_file, \"y_test\")\n",
    "    print(\"Training on full dataset\")\n",
    "    epochs=8\n",
    "    batch_size=128\n",
    "    \n",
    "print(\"X_train.shape:\", X_train.shape, \"epochs:\", epochs, \"batch_size:\", batch_size)"
   ]
  },
  {
   "cell_type": "code",
   "execution_count": 5,
   "metadata": {},
   "outputs": [
    {
     "name": "stdout",
     "output_type": "stream",
     "text": [
      "Epoch 1/1\n",
      "1000/1000 [==============================] - 15s 15ms/step - loss: 1.2464 - acc: 0.8050\n",
      "200/200 [==============================] - 1s 6ms/step\n",
      "['loss', 'acc'] [0.40502985000610353, 0.87]\n"
     ]
    }
   ],
   "source": [
    "\"\"\"\n",
    "Batch normalization with a sparse layer.\n",
    "\n",
    "Achieves on Test:\n",
    "3744/3826 [============================>.] - ETA: 0s(['loss', 'acc'], [0.52888519396363787, 0.89388395178336721])\n",
    "\"\"\"\n",
    "from keras.models import Model, Sequential\n",
    "from keras.layers import InputLayer, Dense, BatchNormalization, Activation, Dropout\n",
    "from keras.callbacks import EarlyStopping\n",
    "from keras import regularizers\n",
    "\n",
    "classify = [\n",
    "    InputLayer(input_shape=(X_train.shape[1],)),\n",
    "    BatchNormalization(),\n",
    "    \n",
    "    Dense(1000),\n",
    "    BatchNormalization(),\n",
    "    Activation('relu'),\n",
    "\n",
    "    Dense(500, activity_regularizer=regularizers.l1(1e-5)),\n",
    "    BatchNormalization(),\n",
    "    Activation('relu'),\n",
    "    \n",
    "    Dense(1),\n",
    "    Activation('sigmoid')\n",
    "]\n",
    "\n",
    "model = Sequential(classify)\n",
    "\n",
    "model.compile(loss='binary_crossentropy', optimizer='adam', metrics=['accuracy'])\n",
    "\n",
    "callbacks=[EarlyStopping(monitor='acc', min_delta=0.05, patience=2, verbose=2, mode=\"max\")]\n",
    "\n",
    "model.fit(X_train, y_train, epochs=epochs, batch_size=batch_size, shuffle=\"batch\", callbacks=callbacks)\n",
    "\n",
    "print(model.metrics_names, model.evaluate(X_test, y_test))"
   ]
  },
  {
   "cell_type": "code",
   "execution_count": 6,
   "metadata": {},
   "outputs": [
    {
     "name": "stdout",
     "output_type": "stream",
     "text": [
      "Saved to model.json and weights.json\n"
     ]
    }
   ],
   "source": [
    "\"\"\"\n",
    "Save model and weights so we can copy them back from the GPU machine\n",
    "to visualize and evaluate locally.\n",
    "\"\"\"\n",
    "model_json = model.to_json()\n",
    "if not os.path.exists(\"models\"):\n",
    "    os.makedirs(\"models\")\n",
    "with open(\"models/model.json\", \"w\") as f:\n",
    "    f.write(model.to_json())\n",
    "\n",
    "model.save_weights(\"models/weights.h5\")\n",
    "print(\"Saved to model.json and weights.json\")"
   ]
  }
 ],
 "metadata": {
  "kernelspec": {
   "display_name": "Python 3",
   "language": "python",
   "name": "python3"
  },
  "language_info": {
   "codemirror_mode": {
    "name": "ipython",
    "version": 3
   },
   "file_extension": ".py",
   "mimetype": "text/x-python",
   "name": "python",
   "nbconvert_exporter": "python",
   "pygments_lexer": "ipython3",
   "version": "3.6.3"
  }
 },
 "nbformat": 4,
 "nbformat_minor": 2
}
